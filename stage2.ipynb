{
 "cells": [
  {
   "cell_type": "markdown",
   "metadata": {
    "id": "_oKjCLdIehtS"
   },
   "source": [
    "# SETUP"
   ]
  },
  {
   "cell_type": "code",
   "execution_count": null,
   "metadata": {
    "collapsed": true,
    "jupyter": {
     "outputs_hidden": true
    }
   },
   "outputs": [],
   "source": [
    "!nvcc --version\n",
    "!nvidia-smi"
   ]
  },
  {
   "cell_type": "code",
   "execution_count": null,
   "metadata": {
    "collapsed": true,
    "jupyter": {
     "outputs_hidden": true
    }
   },
   "outputs": [],
   "source": [
    "!python -m pip install paddlepaddle-gpu==2.4.1.post117 -f https://www.paddlepaddle.org.cn/whl/linux/mkl/avx/stable.html\n",
    "!pip install decord"
   ]
  },
  {
   "cell_type": "code",
   "execution_count": 13,
   "metadata": {},
   "outputs": [],
   "source": [
    "import sys\n",
    "import os\n",
    "HOME = os.getcwd()"
   ]
  },
  {
   "cell_type": "code",
   "execution_count": null,
   "metadata": {
    "collapsed": true,
    "jupyter": {
     "outputs_hidden": true
    }
   },
   "outputs": [],
   "source": [
    "%%bash\n",
    "git clone https://github.com/PaddlePaddle/PaddleDetection.git\n",
    "cd PaddleDetection\n",
    "pip install -r requirements.txt\n",
    "python setup.py install\n",
    "cd ../\n",
    "sys.path.append(\"PaddleDetection\")"
   ]
  },
  {
   "cell_type": "code",
   "execution_count": null,
   "metadata": {
    "collapsed": true,
    "jupyter": {
     "outputs_hidden": true
    }
   },
   "outputs": [],
   "source": [
    "!pip install decord"
   ]
  },
  {
   "cell_type": "code",
   "execution_count": null,
   "metadata": {
    "collapsed": true,
    "jupyter": {
     "outputs_hidden": true
    }
   },
   "outputs": [],
   "source": [
    "!git clone https://github.com/ifzhang/ByteTrack.git\n",
    "!cd ByteTrack && pip3 install -q -r requirements.txt\n",
    "!cd ByteTrack && python3 setup.py -q develop\n",
    "sys.path.append(f\"{HOME}/ByteTrack\")"
   ]
  },
  {
   "cell_type": "code",
   "execution_count": null,
   "metadata": {
    "collapsed": true,
    "jupyter": {
     "outputs_hidden": true
    }
   },
   "outputs": [],
   "source": [
    "!pip3 install cython\n",
    "!pip3 install 'git+https://github.com/cocodataset/cocoapi.git#subdirectory=PythonAPI'\n",
    "!pip3 install cython_bbox"
   ]
  },
  {
   "cell_type": "code",
   "execution_count": null,
   "metadata": {},
   "outputs": [],
   "source": [
    "!git clone https://github.com/Wiqzard/hack-sordi-tracking.git\n",
    "!cd hack-sordi-tracking && git pull\n",
    "sys.path.append(f\"{HOME}/hack-sordi-tracking\")"
   ]
  },
  {
   "cell_type": "code",
   "execution_count": null,
   "metadata": {
    "collapsed": true,
    "jupyter": {
     "outputs_hidden": true
    }
   },
   "outputs": [],
   "source": [
    "!yes | pip uninstall opencv-python\n",
    "!pip install opencv-python-headless"
   ]
  },
  {
   "cell_type": "code",
   "execution_count": null,
   "metadata": {
    "collapsed": true,
    "jupyter": {
     "outputs_hidden": true
    }
   },
   "outputs": [],
   "source": [
    "!python3 -m pip install numpy==1.22.2"
   ]
  },
  {
   "cell_type": "code",
   "execution_count": null,
   "metadata": {
    "jupyter": {
     "source_hidden": true
    }
   },
   "outputs": [],
   "source": [
    "import os\n",
    "HOME = os.getcwd()\n",
    "print(HOME)"
   ]
  },
  {
   "cell_type": "code",
   "execution_count": null,
   "metadata": {
    "jupyter": {
     "source_hidden": true
    }
   },
   "outputs": [],
   "source": [
    "!pip install Cython\n",
    "import os\n",
    "import numpy\n",
    "import sys\n",
    "\n",
    "#%cd bbox\n",
    "#!python3 setup.py build_ext --inplace\n",
    "#import pyximport\n",
    "#pyximport.install() \n",
    "#pyximport.install(setup_args={\"script_args\" : [\"--verbose\"]})\n",
    "#sys.path.append(f\"{HOME}/bbox\")\n",
    "#from bbox import bbox_overlaps\n",
    "from IPython import display\n",
    "#display.clear_output()\n",
    "#%cd ../\n",
    "#os.getcwd()\n",
    "%cd {HOME}\n",
    "!git clone https://github.com/ifzhang/ByteTrack.git\n",
    "!cd ByteTrack && pip3 install -q -r requirements.txt\n",
    "!cd ByteTrack && python3 setup.py -q develop\n",
    "!pip install -q cython_bbox\n",
    "!pip install -q onemetric\n",
    "\n",
    "display.clear_output()\n",
    "import sys\n",
    "sys.path.append(f\"{HOME}/ByteTrack\")\n",
    "import yolox\n",
    "print(\"yolox.__version__:\", yolox.__version__)\n",
    "print(numpy.version.version)\n",
    "sys.path.append(f\"{HOME}/ByteTrack\")\n",
    "sys.path.append(\"/home/5qx9nf8a/.local/bin\")\n",
    "display.clear_output()\n",
    "!git clone https://github.com/Wiqzard/hack-sordi-tracking.git\n",
    "#!cd tracking-tools && git pull\n",
    "sys.path.append(f\"{HOME}/tracking-tools\")"
   ]
  },
  {
   "cell_type": "markdown",
   "metadata": {},
   "source": [
    "### First transform dataset from bmw format to yolov5. Then from yolov5 to COCO."
   ]
  },
  {
   "cell_type": "markdown",
   "metadata": {},
   "source": [
    "# Eval"
   ]
  },
  {
   "cell_type": "code",
   "execution_count": null,
   "metadata": {
    "collapsed": true,
    "jupyter": {
     "outputs_hidden": true
    }
   },
   "outputs": [],
   "source": [
    "%%bash\n",
    "cd PaddleDetection\n",
    "\n",
    "WEIGHTS=/home/5qx9nf8a/team_workspace/PaddleDetection/tracking/model_final.pdparams\n",
    "#configs=/home/5qx9nf8a/team_workspace/PaddleDetection/configs/mot/bytetrack/detector/ppyoloe_plus_m_bytetrack.yml\n",
    "CONFIGS=/home/5qx9nf8a/team_workspace/PaddleDetection/configs/ppyoloe/ppyoloe_plus_crn_m_80e_coco.yml \n",
    "\n",
    "CUDA_VISIBLE_DEVICES=0 python tools/eval.py -c ${CONFIGS} -o weights=${WEIGHTS} --amp\n"
   ]
  },
  {
   "cell_type": "markdown",
   "metadata": {},
   "source": [
    "# Export"
   ]
  },
  {
   "cell_type": "code",
   "execution_count": null,
   "metadata": {
    "collapsed": true,
    "jupyter": {
     "outputs_hidden": true
    }
   },
   "outputs": [],
   "source": [
    "%%bash\n",
    "cd PaddleDetection\n",
    "\n",
    "CONFIGS=/home/5qx9nf8a/team_workspace/PaddleDetection/configs/ppyoloe/ppyoloe_plus_crn_m_80e_coco.yml \n",
    "WEIGHTS=/home/5qx9nf8a/team_workspace/PaddleDetection/tracking/model_final.pdparams\n",
    "\n",
    "python tools/export_model.py -c ${CONFIGS} -o weights=${WEIGHTS} trt=True"
   ]
  },
  {
   "cell_type": "markdown",
   "metadata": {},
   "source": [
    "# Test TRT Inference"
   ]
  },
  {
   "cell_type": "code",
   "execution_count": 2,
   "metadata": {},
   "outputs": [
    {
     "name": "stdout",
     "output_type": "stream",
     "text": [
      "Error while terminating subprocess (pid=102338): \n"
     ]
    }
   ],
   "source": [
    "%%bash\n",
    "cd PaddleDetection\n",
    "\n",
    "MODEL_DIR=/home/5qx9nf8a/team_workspace/PaddleDetection/output_inference/ppyoloe_plus_crn_m_80e_coco\n",
    "VIDEO_PATH=/home/5qx9nf8a/team_workspace/data/Hackathon_Stage2/Evaluation_set/video/eval_video_1.mp4 #--video_file=${VIDEO_PATH}\n",
    "IMAGE_PATH=/home/5qx9nf8a/team_workspace/data/Hackathon_Stage2/Evaluation_set/dataset/images/124.jpg\n",
    "\n",
    "CUDA_VISIBLE_DEVICES=0 python deploy/python/infer.py --model_dir=${MODEL_DIR} --image_file=${IMAGE_PATH} --run_mode=trt_fp16 --device=gpu --run_benchmark=True"
   ]
  },
  {
   "cell_type": "markdown",
   "metadata": {},
   "source": [
    "# Video Processing (Detection + Tracking + Scanning + Annotating)"
   ]
  },
  {
   "cell_type": "code",
   "execution_count": 2,
   "metadata": {},
   "outputs": [],
   "source": [
    "from dataclasses import dataclass, field\n",
    "from __future__ import annotations\n",
    "\n",
    "\n",
    "@dataclass(frozen=True)\n",
    "class BYTETrackerArgs:\n",
    "    track_thresh: float = 0.2 #0.4\n",
    "    track_buffer: int = 30\n",
    "    match_thresh: float = 0.7 #0.7\n",
    "    aspect_ratio_thresh: float = 3.0\n",
    "    min_box_area: float = 1.0\n",
    "    mot20: bool = False\n",
    "\n",
    "@dataclass(frozen=True)\n",
    "class Args:\n",
    "    BYTE_TRACKER_ARGS = BYTETrackerArgs\n",
    "    STRIDE: int = 8\n",
    "    REDUCTION_FACTOR: int = 3\n",
    "    SOURCE_VIDEO_PATH: str = (\n",
    "        \"data/Hackathon_Stage2/Evaluation_set/video/eval_video_1.mp4\"\n",
    "    )\n",
    "    TARGET_VIDEO_PATH: str = \"/temp/eval_video_1.mp4\"\n",
    "    MODEL_DIR: str = \"/home/5qx9nf8a/team_workspace/PaddleDetection/output_inference/ppyoloe_plus_crn_m_80e_coco\"\n",
    "    BATCH_SIZE: int = 32\n",
    "    RUN_MODE: str = \"paddle\" #\"trt_fp16\" \"paddle\", \"trt_int8\"    trt modes seem to be lagging at first. look for PaddleDetection docs.\n",
    "    CPU_THREADS: int = 1\n",
    "    MAX_DETECTIONS: int = 300 # do not change this/ not implemented\n",
    "    CLASS_NAMES_DICT: dict = field(\n",
    "        default_factory=lambda:{\n",
    "            0: \"klt_box_empty\",\n",
    "            1: \"klt_box_full\",\n",
    "            2: \"rack_1\",\n",
    "            3: \"rack_2\",\n",
    "            4: \"rack_3\",\n",
    "            5: \"rack_4\",\n",
    "            6: \"placeholder\",\n",
    "        }\n",
    "    )\n",
    "\n",
    "    SCANNER_X: int = 300\n",
    "    SCANNER_Y: int = 50\n",
    "    BOX_THRESHOLD: float = 0.35\n",
    "    RACK_THRESHOLD: float = 0.79\n",
    "\n",
    "args = Args()"
   ]
  },
  {
   "cell_type": "code",
   "execution_count": null,
   "metadata": {
    "collapsed": true,
    "jupyter": {
     "outputs_hidden": true
    }
   },
   "outputs": [],
   "source": [
    "from video_processor.video_processor import VideoProcessor\n",
    "from PaddleDetection.deploy.python.infer import Detector\n",
    "import yolox\n",
    "\n",
    "if __name__ == \"__main__\":  \n",
    "    SOURCE_VIDEO_PATH = \"data/live_demo/Evaluation_set/demo_eval_video/full_eval_demo_video.mp4\"#\"data/Hackathon_Stage2/Evaluation_set/video/eval_video_1.mp4\"\n",
    "    TARGET_VIDEO_PATH = \"/home/5qx9nf8a/team_workspace/temp/\"\n",
    "    detector = Detector(model_dir=args.MODEL_DIR,\n",
    "                 device='GPU',\n",
    "                 run_mode=args.RUN_MODE,\n",
    "                 batch_size=args.BATCH_SIZE,\n",
    "                 trt_min_shape=1,\n",
    "                 trt_max_shape=1280,\n",
    "                 trt_opt_shape=640,\n",
    "                 trt_calib_mode=False,\n",
    "                 cpu_threads=args.CPU_THREADS,\n",
    "                 enable_mkldnn=False,\n",
    "                 enable_mkldnn_bfloat16=False,\n",
    "                 output_dir='output_paddle',\n",
    "                 threshold=0.3,\n",
    "                 delete_shuffle_pass=False)\n",
    "    \n",
    "    video_processor = VideoProcessor(source_video_path = SOURCE_VIDEO_PATH, \n",
    "                                    target_dir = TARGET_VIDEO_PATH,\n",
    "                                    args = args)\n",
    "    video_processor.process_video(detector, with_scanner=True, with_placeholders=True, with_annotate_scanner=True)"
   ]
  },
  {
   "cell_type": "code",
   "execution_count": 12,
   "metadata": {
    "collapsed": true,
    "jupyter": {
     "outputs_hidden": true
    }
   },
   "outputs": [
    {
     "data": {
      "text/plain": [
       "{'eval_video': [{'rack_name': 'rack_1',\n",
       "   'rack_conf': 0.983929,\n",
       "   'N_full_KLT': 14,\n",
       "   'N_empty_KLT': 11,\n",
       "   'N_Pholders': 23,\n",
       "   'shelf_N_Pholders': {'shelf_1': 6,\n",
       "    'shelf_2': 8,\n",
       "    'shelf_3': 1,\n",
       "    'shelf_4': 8}},\n",
       "  {'rack_name': 'rack_2',\n",
       "   'rack_conf': 0.961904,\n",
       "   'N_full_KLT': 8,\n",
       "   'N_empty_KLT': 7,\n",
       "   'N_Pholders': 24,\n",
       "   'shelf_N_Pholders': {'shelf_1': 6,\n",
       "    'shelf_2': 4,\n",
       "    'shelf_3': 9,\n",
       "    'shelf_4': 5}},\n",
       "  {'rack_name': 'rack_4',\n",
       "   'rack_conf': 0.984042,\n",
       "   'N_full_KLT': 6,\n",
       "   'N_empty_KLT': 7,\n",
       "   'N_Pholders': 3,\n",
       "   'shelf_N_Pholders': {'shelf_1': 1, 'shelf_3': 1, 'shelf_4': 1}},\n",
       "  {'rack_name': 'rack_3',\n",
       "   'rack_conf': 0.984296,\n",
       "   'N_full_KLT': 2,\n",
       "   'N_empty_KLT': 4,\n",
       "   'N_Pholders': 0,\n",
       "   'shelf_N_Pholders': {}},\n",
       "  {'rack_name': 'rack_3',\n",
       "   'rack_conf': 0.984311,\n",
       "   'N_full_KLT': 2,\n",
       "   'N_empty_KLT': 2,\n",
       "   'N_Pholders': 2,\n",
       "   'shelf_N_Pholders': {'shelf_2': 1, 'shelf_3': 1}},\n",
       "  {'rack_name': 'rack_4',\n",
       "   'rack_conf': 0.985188,\n",
       "   'N_full_KLT': 5,\n",
       "   'N_empty_KLT': 6,\n",
       "   'N_Pholders': 5,\n",
       "   'shelf_N_Pholders': {'shelf_1': 1,\n",
       "    'shelf_2': 1,\n",
       "    'shelf_3': 1,\n",
       "    'shelf_4': 1,\n",
       "    'shelf_5': 1}},\n",
       "  {'rack_name': 'rack_1',\n",
       "   'rack_conf': 0.946469,\n",
       "   'N_full_KLT': 15,\n",
       "   'N_empty_KLT': 9,\n",
       "   'N_Pholders': 24,\n",
       "   'shelf_N_Pholders': {'shelf_1': 5,\n",
       "    'shelf_2': 5,\n",
       "    'shelf_3': 7,\n",
       "    'shelf_4': 7}},\n",
       "  {'rack_name': 'rack_2',\n",
       "   'rack_conf': 0.967577,\n",
       "   'N_full_KLT': 13,\n",
       "   'N_empty_KLT': 5,\n",
       "   'N_Pholders': 21,\n",
       "   'shelf_N_Pholders': {'shelf_1': 5,\n",
       "    'shelf_2': 3,\n",
       "    'shelf_3': 9,\n",
       "    'shelf_4': 4}},\n",
       "  {'rack_name': 'rack_1',\n",
       "   'rack_conf': 0.986651,\n",
       "   'N_full_KLT': 13,\n",
       "   'N_empty_KLT': 7,\n",
       "   'N_Pholders': 28,\n",
       "   'shelf_N_Pholders': {'shelf_1': 9,\n",
       "    'shelf_2': 8,\n",
       "    'shelf_3': 5,\n",
       "    'shelf_4': 6}},\n",
       "  {'rack_name': 'rack_3',\n",
       "   'rack_conf': 0.983814,\n",
       "   'N_full_KLT': 3,\n",
       "   'N_empty_KLT': 2,\n",
       "   'N_Pholders': 1,\n",
       "   'shelf_N_Pholders': {'shelf_2': 1}},\n",
       "  {'rack_name': 'rack_3',\n",
       "   'rack_conf': 0.984389,\n",
       "   'N_full_KLT': 3,\n",
       "   'N_empty_KLT': 3,\n",
       "   'N_Pholders': 0,\n",
       "   'shelf_N_Pholders': {}},\n",
       "  {'rack_name': 'rack_1',\n",
       "   'rack_conf': 0.975007,\n",
       "   'N_full_KLT': 10,\n",
       "   'N_empty_KLT': 7,\n",
       "   'N_Pholders': 31,\n",
       "   'shelf_N_Pholders': {'shelf_1': 8,\n",
       "    'shelf_2': 10,\n",
       "    'shelf_3': 6,\n",
       "    'shelf_4': 7}},\n",
       "  {'rack_name': 'rack_2',\n",
       "   'rack_conf': 0.976335,\n",
       "   'N_full_KLT': 8,\n",
       "   'N_empty_KLT': 1,\n",
       "   'N_Pholders': 30,\n",
       "   'shelf_N_Pholders': {'shelf_1': 9,\n",
       "    'shelf_2': 9,\n",
       "    'shelf_3': 8,\n",
       "    'shelf_4': 4}},\n",
       "  {'rack_name': 'rack_2',\n",
       "   'rack_conf': 0.97726,\n",
       "   'N_full_KLT': 4,\n",
       "   'N_empty_KLT': 10,\n",
       "   'N_Pholders': 25,\n",
       "   'shelf_N_Pholders': {'shelf_1': 6,\n",
       "    'shelf_2': 3,\n",
       "    'shelf_3': 9,\n",
       "    'shelf_4': 7}},\n",
       "  {'rack_name': 'rack_4',\n",
       "   'rack_conf': 0.977735,\n",
       "   'N_full_KLT': 5,\n",
       "   'N_empty_KLT': 5,\n",
       "   'N_Pholders': 6,\n",
       "   'shelf_N_Pholders': {'shelf_1': 3,\n",
       "    'shelf_2': 1,\n",
       "    'shelf_3': 1,\n",
       "    'shelf_5': 1}},\n",
       "  {'rack_name': 'rack_4',\n",
       "   'rack_conf': 0.985276,\n",
       "   'N_full_KLT': 7,\n",
       "   'N_empty_KLT': 4,\n",
       "   'N_Pholders': 5,\n",
       "   'shelf_N_Pholders': {'shelf_1': 1, 'shelf_3': 1, 'shelf_4': 3}},\n",
       "  {'rack_name': 'rack_3',\n",
       "   'rack_conf': 0.9811,\n",
       "   'N_full_KLT': 3,\n",
       "   'N_empty_KLT': 2,\n",
       "   'N_Pholders': 1,\n",
       "   'shelf_N_Pholders': {'shelf_1': 1}}],\n",
       " 'mAP': 93.3,\n",
       " 'FPS': 103.68}"
      ]
     },
     "execution_count": 12,
     "metadata": {},
     "output_type": "execute_result"
    }
   ],
   "source": [
    "video_processor.create_submission(mAP=93.3, fps=103.68, save=True)"
   ]
  },
  {
   "cell_type": "code",
   "execution_count": null,
   "metadata": {},
   "outputs": [],
   "source": []
  },
  {
   "cell_type": "code",
   "execution_count": null,
   "metadata": {},
   "outputs": [],
   "source": []
  },
  {
   "cell_type": "code",
   "execution_count": null,
   "metadata": {},
   "outputs": [],
   "source": []
  },
  {
   "cell_type": "code",
   "execution_count": null,
   "metadata": {},
   "outputs": [],
   "source": []
  },
  {
   "cell_type": "code",
   "execution_count": null,
   "metadata": {
    "collapsed": true,
    "jupyter": {
     "outputs_hidden": true
    }
   },
   "outputs": [],
   "source": [
    "%%bash\n",
    "cd PaddleDetection/PaddleYOLO\n",
    "pwd\n",
    "\n",
    "model_name=ppyoloe \n",
    "job_name=ppyoloe_plus_crn_m_80e_coco \n",
    "\n",
    "config=/home/5qx9nf8a/team_workspace/PaddleDetection/PaddleYOLO/configs/custom/ppyoloe_plus_crn_m_80e_coco.yml #/configs/custom/${job_name}.yml\n",
    "log_dir=log_dir/${job_name}\n",
    "weights=output/${job_name}/model_final.pdparams\n",
    "video_path=/home/5qx9nf8a/team_workspace/data/Hackathon_Stage2/Evaluation_set/video/eval_video_1.mp4\n",
    "img_folder=/home/5qx9nf8a/team_workspace/data/trans_data/val/images/\n",
    "# 1.training（single GPU / multi GPU）\n",
    "# CUDA_VISIBLE_DEVICES=0 python tools/train.py -c ${config} --eval --amp\n",
    "\n",
    "# 2.eval\n",
    "#CUDA_VISIBLE_DEVICES=0 python tools/eval.py -c ${config} -o weights=${weights} --classwise\n",
    "\n",
    "# 3.infer\n",
    "#CUDA_VISIBLE_DEVICES=0 python tools/infer.py -c ${config} -o weights=${weights} --infer_dir=${img_folder} --draw_threshold=0.5\n",
    "\n",
    "\n",
    "# 4.export\n",
    "CUDA_VISIBLE_DEVICES=0 python tools/export_model.py -c ${config} -o weights=${weights} # trt=True\n",
    "\n",
    "# CUDA_VISIBLE_DEVICES=0 python tools/export_model.py -c ${config} -o weights=${weights} exclude_post_process=True # trt=True\n",
    "\n",
    "# CUDA_VISIBLE_DEVICES=0 python tools/export_model.py -c ${config} -o weights=${weights} exclude_nms=True # trt=True\n",
    "\n",
    "# 5.deploy infer\n",
    "#CUDA_VISIBLE_DEVICES=0 python deploy/python/infer.py --model_dir=output_inference/${job_name} --image_file=demo/000000014439_640x640.jpg --device=GPU\n",
    "\n",
    "# 6.deploy speed, add '--run_mode=trt_fp16' to test in TensorRT FP16 mode\n",
    "#CUDA_VISIBLE_DEVICES=0 python deploy/python/infer.py --model_dir=output_inference/${job_name} --image_file=demo/000000014439_640x640.jpg --device=GPU --run_benchmark=True # --run_mode=trt_fp16\n",
    "\n",
    "# 7.export onnx\n",
    "#paddle2onnx --model_dir output_inference/${job_name} --model_filename model.pdmodel --params_filename model.pdiparams --opset_version 12 --save_file ${job_name}.onnx\n",
    "\n",
    "# 8.onnx speed\n",
    "#/usr/local/TensorRT-8.0.3.4/bin/trtexec --onnx=${job_name}.onnx --workspace=4096 --avgRuns=10 --shapes=input:1x3x640x640 --fp16\n",
    "#/usr/local/TensorRT-8.0.3.4/bin/trtexec --onnx=${job_name}.onnx --workspace=4096 --avgRuns=10 --shapes=input:1x3x640x640 --fp32\n",
    "\n"
   ]
  }
 ],
 "metadata": {
  "accelerator": "GPU",
  "colab": {
   "provenance": []
  },
  "gpuClass": "standard",
  "kernelspec": {
   "display_name": "ml_env",
   "language": "python",
   "name": "python3"
  },
  "language_info": {
   "codemirror_mode": {
    "name": "ipython",
    "version": 3
   },
   "file_extension": ".py",
   "mimetype": "text/x-python",
   "name": "python",
   "nbconvert_exporter": "python",
   "pygments_lexer": "ipython3",
   "version": "3.10.9"
  },
  "vscode": {
   "interpreter": {
    "hash": "1d4f946ad4b8597404ebb032adc9ddcdc9b7d09c1a9cf3a0cb846e89f03d860d"
   }
  }
 },
 "nbformat": 4,
 "nbformat_minor": 4
}
